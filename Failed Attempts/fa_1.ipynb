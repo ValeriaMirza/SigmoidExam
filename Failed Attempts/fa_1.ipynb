{
 "cells": [
  {
   "cell_type": "code",
   "execution_count": 43,
   "id": "6e363669",
   "metadata": {},
   "outputs": [],
   "source": [
    "import pandas as pd\n",
    "import pandas as pd\n",
    "from sklearn.preprocessing import StandardScaler, OneHotEncoder\n",
    "from sklearn.model_selection import train_test_split\n",
    "from sklearn.compose import ColumnTransformer\n",
    "from sklearn.pipeline import Pipeline\n",
    "from sklearn.impute import SimpleImputer\n",
    "from sklearn.preprocessing import LabelEncoder"
   ]
  },
  {
   "cell_type": "code",
   "execution_count": 44,
   "id": "a55f1aca",
   "metadata": {},
   "outputs": [
    {
     "name": "stderr",
     "output_type": "stream",
     "text": [
      "C:\\Users\\valer\\AppData\\Local\\Temp\\ipykernel_18008\\1507164070.py:1: DtypeWarning: Columns (7,12) have mixed types. Specify dtype option on import or set low_memory=False.\n",
      "  df = pd.read_csv('data.csv')\n"
     ]
    }
   ],
   "source": [
    "df = pd.read_csv('data.csv')"
   ]
  },
  {
   "cell_type": "code",
   "execution_count": 45,
   "id": "cb91614b",
   "metadata": {},
   "outputs": [
    {
     "name": "stdout",
     "output_type": "stream",
     "text": [
      "<class 'pandas.core.frame.DataFrame'>\n",
      "RangeIndex: 3552912 entries, 0 to 3552911\n",
      "Data columns (total 16 columns):\n",
      " #   Column               Non-Null Count    Dtype  \n",
      "---  ------               --------------    -----  \n",
      " 0   maker                3033997 non-null  object \n",
      " 1   model                2419551 non-null  object \n",
      " 2   mileage              3190328 non-null  float64\n",
      " 3   manufacture_year     3182334 non-null  float64\n",
      " 4   engine_displacement  2809498 non-null  float64\n",
      " 5   engine_power         2998035 non-null  float64\n",
      " 6   body_type            2429998 non-null  object \n",
      " 7   color_slug           209501 non-null   object \n",
      " 8   stk_year             536105 non-null   float64\n",
      " 9   transmission         2811282 non-null  object \n",
      " 10  door_count           2462846 non-null  float64\n",
      " 11  seat_count           2265813 non-null  float64\n",
      " 12  fuel_type            1705306 non-null  object \n",
      " 13  date_created         3552912 non-null  object \n",
      " 14  date_last_seen       3552912 non-null  object \n",
      " 15  price_eur            3552912 non-null  float64\n",
      "dtypes: float64(8), object(8)\n",
      "memory usage: 433.7+ MB\n"
     ]
    }
   ],
   "source": [
    "df.info( show_counts=True)"
   ]
  },
  {
   "cell_type": "code",
   "execution_count": 46,
   "id": "e5048824",
   "metadata": {},
   "outputs": [],
   "source": [
    "df = df[(df['price_eur'] >= 500) & (df['price_eur'] <= 30_000_000)]\n",
    "df = df.reset_index(drop=True)"
   ]
  },
  {
   "cell_type": "code",
   "execution_count": 47,
   "id": "7e90047b",
   "metadata": {},
   "outputs": [],
   "source": [
    "df = df.drop('stk_year', axis = 1)\n",
    "df = df.drop('color_slug', axis = 1)"
   ]
  },
  {
   "cell_type": "code",
   "execution_count": 48,
   "id": "2f378e4f",
   "metadata": {},
   "outputs": [
    {
     "data": {
      "text/plain": [
       "maker                  14.100859\n",
       "model                  31.455159\n",
       "mileage                 8.796693\n",
       "manufacture_year        9.468416\n",
       "engine_displacement    20.143503\n",
       "engine_power           14.394111\n",
       "body_type              32.083728\n",
       "transmission           19.600642\n",
       "door_count             29.527101\n",
       "seat_count             35.169624\n",
       "fuel_type              52.834753\n",
       "date_created            0.000000\n",
       "date_last_seen          0.000000\n",
       "price_eur               0.000000\n",
       "dtype: float64"
      ]
     },
     "execution_count": 48,
     "metadata": {},
     "output_type": "execute_result"
    }
   ],
   "source": [
    "null_percentage = df.isnull().mean() * 100\n",
    "null_percentage"
   ]
  },
  {
   "cell_type": "code",
   "execution_count": null,
   "id": "b8a168f1",
   "metadata": {},
   "outputs": [],
   "source": [
    "categorical_columns = ['maker', 'model', 'body_type', 'transmission', 'fuel_type']\n",
    "\n",
    "for col in categorical_columns:\n",
    "    mean_price_by_category = df.groupby(col)['price_eur'].mean()\n",
    "    df[col] = df[col].map(mean_price_by_category)"
   ]
  },
  {
   "cell_type": "code",
   "execution_count": null,
   "id": "fe9f24cb",
   "metadata": {},
   "outputs": [],
   "source": [
    "df['date_created'] = pd.to_datetime(df['date_created'], errors='coerce')\n",
    "df['date_last_seen'] = pd.to_datetime(df['date_last_seen'], errors='coerce')\n",
    "\n",
    "\n",
    "df['days_diff'] = (df['date_last_seen'] - df['date_created']).dt.days\n",
    "\n",
    "\n",
    "df.drop(columns=['date_created', 'date_last_seen'], inplace=True)"
   ]
  },
  {
   "cell_type": "code",
   "execution_count": 51,
   "id": "dbf3c6cd",
   "metadata": {},
   "outputs": [
    {
     "name": "stderr",
     "output_type": "stream",
     "text": [
      "c:\\Users\\valer\\anaconda3\\Lib\\site-packages\\sklearn\\impute\\_iterative.py:895: ConvergenceWarning: [IterativeImputer] Early stopping criterion not reached.\n",
      "  warnings.warn(\n"
     ]
    }
   ],
   "source": [
    "from sklearn.experimental import enable_iterative_imputer\n",
    "from sklearn.impute import IterativeImputer\n",
    "\n",
    "imputer = IterativeImputer(max_iter=10, random_state=42)\n",
    "df_imputed = pd.DataFrame(imputer.fit_transform(df), columns=df.columns)"
   ]
  },
  {
   "cell_type": "code",
   "execution_count": 52,
   "id": "6b5a22b6",
   "metadata": {},
   "outputs": [],
   "source": [
    "from imblearn.over_sampling import SMOTE"
   ]
  },
  {
   "cell_type": "code",
   "execution_count": 53,
   "id": "495605d9",
   "metadata": {},
   "outputs": [],
   "source": [
    "X = df_imputed.drop(columns=['price_eur'])\n",
    "y = df_imputed['price_eur']\n",
    "\n",
    "# Train-test split\n",
    "X_train, X_test, y_train, y_test = train_test_split(\n",
    "    X, y, test_size=0.2, random_state=42\n",
    ")"
   ]
  },
  {
   "cell_type": "code",
   "execution_count": 54,
   "id": "59b75569",
   "metadata": {},
   "outputs": [],
   "source": [
    "import pandas as pd\n",
    "import numpy as np\n",
    "\n",
    "from sklearn.experimental import enable_iterative_imputer\n",
    "from sklearn.impute import IterativeImputer\n",
    "\n",
    "from sklearn.model_selection import train_test_split\n",
    "from sklearn.preprocessing import StandardScaler\n",
    "from sklearn.ensemble import RandomForestRegressor\n",
    "from sklearn.metrics import r2_score, mean_absolute_error, mean_squared_error\n",
    "\n",
    "import smogn"
   ]
  },
  {
   "cell_type": "code",
   "execution_count": null,
   "id": "723ab24d",
   "metadata": {},
   "outputs": [
    {
     "ename": "MemoryError",
     "evalue": "Unable to allocate 2.11 TiB for an array with shape (538871, 538871) and data type float64",
     "output_type": "error",
     "traceback": [
      "\u001b[1;31m---------------------------------------------------------------------------\u001b[0m",
      "\u001b[1;31mMemoryError\u001b[0m                               Traceback (most recent call last)",
      "Cell \u001b[1;32mIn[55], line 6\u001b[0m\n\u001b[0;32m      4\u001b[0m train_df \u001b[38;5;241m=\u001b[39m train_df\u001b[38;5;241m.\u001b[39mreset_index(drop\u001b[38;5;241m=\u001b[39m\u001b[38;5;28;01mTrue\u001b[39;00m)\n\u001b[0;32m      5\u001b[0m \u001b[38;5;66;03m# Apply SMOGN to training set\u001b[39;00m\n\u001b[1;32m----> 6\u001b[0m train_df_smogn \u001b[38;5;241m=\u001b[39m \u001b[43msmogn\u001b[49m\u001b[38;5;241;43m.\u001b[39;49m\u001b[43msmoter\u001b[49m\u001b[43m(\u001b[49m\n\u001b[0;32m      7\u001b[0m \u001b[43m    \u001b[49m\u001b[43mdata\u001b[49m\u001b[38;5;241;43m=\u001b[39;49m\u001b[43mtrain_df\u001b[49m\u001b[43m,\u001b[49m\n\u001b[0;32m      8\u001b[0m \u001b[43m    \u001b[49m\u001b[43my\u001b[49m\u001b[38;5;241;43m=\u001b[39;49m\u001b[38;5;124;43m'\u001b[39;49m\u001b[38;5;124;43mprice_eur\u001b[39;49m\u001b[38;5;124;43m'\u001b[39;49m\u001b[43m,\u001b[49m\n\u001b[0;32m      9\u001b[0m \u001b[43m    \u001b[49m\u001b[43mrel_thres\u001b[49m\u001b[38;5;241;43m=\u001b[39;49m\u001b[38;5;241;43m0.8\u001b[39;49m\u001b[43m,\u001b[49m\u001b[43m        \u001b[49m\u001b[38;5;66;43;03m# Threshold for extreme values (adjust if needed)\u001b[39;49;00m\n\u001b[0;32m     10\u001b[0m \u001b[43m    \u001b[49m\u001b[43mrel_method\u001b[49m\u001b[38;5;241;43m=\u001b[39;49m\u001b[38;5;124;43m'\u001b[39;49m\u001b[38;5;124;43mauto\u001b[39;49m\u001b[38;5;124;43m'\u001b[39;49m\u001b[43m,\u001b[49m\u001b[43m    \u001b[49m\u001b[38;5;66;43;03m# Automatic detection\u001b[39;49;00m\n\u001b[0;32m     11\u001b[0m \u001b[43m    \u001b[49m\u001b[43mrel_coef\u001b[49m\u001b[38;5;241;43m=\u001b[39;49m\u001b[38;5;241;43m0.5\u001b[39;49m\u001b[43m          \u001b[49m\u001b[38;5;66;43;03m# Sensitivity\u001b[39;49;00m\n\u001b[0;32m     12\u001b[0m \u001b[43m)\u001b[49m\n",
      "File \u001b[1;32mc:\\Users\\valer\\anaconda3\\Lib\\site-packages\\smogn\\smoter.py:240\u001b[0m, in \u001b[0;36msmoter\u001b[1;34m(data, y, k, pert, samp_method, under_samp, drop_na_col, drop_na_row, replace, rel_thres, rel_method, rel_xtrm_type, rel_coef, rel_ctrl_pts_rg)\u001b[0m\n\u001b[0;32m    234\u001b[0m \u001b[38;5;66;03m## over-sampling\u001b[39;00m\n\u001b[0;32m    235\u001b[0m \u001b[38;5;28;01mif\u001b[39;00m s_perc[i] \u001b[38;5;241m>\u001b[39m \u001b[38;5;241m1\u001b[39m:\n\u001b[0;32m    236\u001b[0m     \n\u001b[0;32m    237\u001b[0m     \u001b[38;5;66;03m## generate synthetic observations in training set\u001b[39;00m\n\u001b[0;32m    238\u001b[0m     \u001b[38;5;66;03m## considered 'minority'\u001b[39;00m\n\u001b[0;32m    239\u001b[0m     \u001b[38;5;66;03m## (see 'over_sampling()' function for details)\u001b[39;00m\n\u001b[1;32m--> 240\u001b[0m     synth_obs \u001b[38;5;241m=\u001b[39m \u001b[43mover_sampling\u001b[49m\u001b[43m(\u001b[49m\n\u001b[0;32m    241\u001b[0m \u001b[43m        \u001b[49m\u001b[43mdata\u001b[49m\u001b[43m \u001b[49m\u001b[38;5;241;43m=\u001b[39;49m\u001b[43m \u001b[49m\u001b[43mdata\u001b[49m\u001b[43m,\u001b[49m\n\u001b[0;32m    242\u001b[0m \u001b[43m        \u001b[49m\u001b[43mindex\u001b[49m\u001b[43m \u001b[49m\u001b[38;5;241;43m=\u001b[39;49m\u001b[43m \u001b[49m\u001b[38;5;28;43mlist\u001b[39;49m\u001b[43m(\u001b[49m\u001b[43mb_index\u001b[49m\u001b[43m[\u001b[49m\u001b[43mi\u001b[49m\u001b[43m]\u001b[49m\u001b[38;5;241;43m.\u001b[39;49m\u001b[43mindex\u001b[49m\u001b[43m)\u001b[49m\u001b[43m,\u001b[49m\n\u001b[0;32m    243\u001b[0m \u001b[43m        \u001b[49m\u001b[43mperc\u001b[49m\u001b[43m \u001b[49m\u001b[38;5;241;43m=\u001b[39;49m\u001b[43m \u001b[49m\u001b[43ms_perc\u001b[49m\u001b[43m[\u001b[49m\u001b[43mi\u001b[49m\u001b[43m]\u001b[49m\u001b[43m,\u001b[49m\n\u001b[0;32m    244\u001b[0m \u001b[43m        \u001b[49m\u001b[43mpert\u001b[49m\u001b[43m \u001b[49m\u001b[38;5;241;43m=\u001b[39;49m\u001b[43m \u001b[49m\u001b[43mpert\u001b[49m\u001b[43m,\u001b[49m\n\u001b[0;32m    245\u001b[0m \u001b[43m        \u001b[49m\u001b[43mk\u001b[49m\u001b[43m \u001b[49m\u001b[38;5;241;43m=\u001b[39;49m\u001b[43m \u001b[49m\u001b[43mk\u001b[49m\n\u001b[0;32m    246\u001b[0m \u001b[43m    \u001b[49m\u001b[43m)\u001b[49m\n\u001b[0;32m    248\u001b[0m     \u001b[38;5;66;03m## concatenate over-sampling\u001b[39;00m\n\u001b[0;32m    249\u001b[0m     \u001b[38;5;66;03m## results to modified training set\u001b[39;00m\n\u001b[0;32m    250\u001b[0m     data_new \u001b[38;5;241m=\u001b[39m pd\u001b[38;5;241m.\u001b[39mconcat([synth_obs, data_new])\n",
      "File \u001b[1;32mc:\\Users\\valer\\anaconda3\\Lib\\site-packages\\smogn\\over_sampling.py:161\u001b[0m, in \u001b[0;36mover_sampling\u001b[1;34m(data, index, perc, pert, k)\u001b[0m\n\u001b[0;32m    157\u001b[0m feat_count_nom \u001b[38;5;241m=\u001b[39m \u001b[38;5;28mlen\u001b[39m(feat_list_nom)\n\u001b[0;32m    159\u001b[0m \u001b[38;5;66;03m## calculate distance between observations based on data types\u001b[39;00m\n\u001b[0;32m    160\u001b[0m \u001b[38;5;66;03m## store results over null distance matrix of n x n\u001b[39;00m\n\u001b[1;32m--> 161\u001b[0m dist_matrix \u001b[38;5;241m=\u001b[39m \u001b[43mnp\u001b[49m\u001b[38;5;241;43m.\u001b[39;49m\u001b[43mndarray\u001b[49m\u001b[43m(\u001b[49m\u001b[43mshape\u001b[49m\u001b[43m \u001b[49m\u001b[38;5;241;43m=\u001b[39;49m\u001b[43m \u001b[49m\u001b[43m(\u001b[49m\u001b[43mn\u001b[49m\u001b[43m,\u001b[49m\u001b[43m \u001b[49m\u001b[43mn\u001b[49m\u001b[43m)\u001b[49m\u001b[43m)\u001b[49m\n\u001b[0;32m    163\u001b[0m \u001b[38;5;28;01mfor\u001b[39;00m i \u001b[38;5;129;01min\u001b[39;00m tqdm(\u001b[38;5;28mrange\u001b[39m(n), ascii \u001b[38;5;241m=\u001b[39m \u001b[38;5;28;01mTrue\u001b[39;00m, desc \u001b[38;5;241m=\u001b[39m \u001b[38;5;124m\"\u001b[39m\u001b[38;5;124mdist_matrix\u001b[39m\u001b[38;5;124m\"\u001b[39m):\n\u001b[0;32m    164\u001b[0m     \u001b[38;5;28;01mfor\u001b[39;00m j \u001b[38;5;129;01min\u001b[39;00m \u001b[38;5;28mrange\u001b[39m(n):\n\u001b[0;32m    165\u001b[0m         \n\u001b[0;32m    166\u001b[0m         \u001b[38;5;66;03m## utilize euclidean distance given that \u001b[39;00m\n\u001b[0;32m    167\u001b[0m         \u001b[38;5;66;03m## data is all numeric / continuous\u001b[39;00m\n",
      "\u001b[1;31mMemoryError\u001b[0m: Unable to allocate 2.11 TiB for an array with shape (538871, 538871) and data type float64"
     ]
    }
   ],
   "source": [
    "\n",
    "train_df = X_train.copy()\n",
    "train_df['price_eur'] = y_train\n",
    "train_df = train_df.reset_index(drop=True)\n",
    "\n",
    "train_df_smogn = smogn.smoter(\n",
    "    data=train_df,\n",
    "    y='price_eur',\n",
    "    rel_thres=0.8,        \n",
    "    rel_method='auto',   \n",
    "    rel_coef=0.5         \n",
    ")\n"
   ]
  },
  {
   "cell_type": "code",
   "execution_count": null,
   "id": "e4b9a4a5",
   "metadata": {},
   "outputs": [],
   "source": [
    "\n",
    "X_train_smogn = train_df_smogn.drop(columns=['price_eur'])\n",
    "y_train_smogn = train_df_smogn['price_eur']\n",
    "\n"
   ]
  },
  {
   "cell_type": "code",
   "execution_count": null,
   "id": "2bc6bf32",
   "metadata": {},
   "outputs": [],
   "source": [
    "\n",
    "scaler = StandardScaler()\n",
    "\n",
    "X_train_scaled = scaler.fit_transform(X_train_smogn)\n",
    "X_test_scaled = scaler.transform(X_test)"
   ]
  },
  {
   "cell_type": "code",
   "execution_count": null,
   "id": "2ff13221",
   "metadata": {},
   "outputs": [],
   "source": [
    "\n",
    "rf = RandomForestRegressor(random_state=42)\n",
    "rf.fit(X_train_scaled, y_train_smogn)\n",
    "\n",
    "\n",
    "y_pred = rf.predict(X_test_scaled)\n"
   ]
  },
  {
   "cell_type": "code",
   "execution_count": null,
   "id": "83ad19c3",
   "metadata": {},
   "outputs": [
    {
     "name": "stdout",
     "output_type": "stream",
     "text": [
      "R² Score: 0.3696\n",
      "Mean Absolute Error (MAE): 7538.65\n",
      "Mean Squared Error (MSE): 3601475583.69\n",
      "Root Mean Squared Error (RMSE): 60012.30\n",
      "Threshold Accuracy (within 15 units): 0.51%\n"
     ]
    }
   ],
   "source": [
    "\n",
    "\n",
    "mae = mean_absolute_error(y_test, y_pred)\n",
    "mse = mean_squared_error(y_test, y_pred)\n",
    "rmse = np.sqrt(mse)\n",
    "threshold = 15\n",
    "accuracy = np.mean(np.abs(y_pred - y_test) <= threshold) * 100  # in percentage\n",
    "\n",
    "print(f\"R² Score: {r2:.4f}\")\n",
    "print(f\"Mean Absolute Error (MAE): {mae:.2f}\")\n",
    "print(f\"Mean Squared Error (MSE): {mse:.2f}\")\n",
    "print(f\"Root Mean Squared Error (RMSE): {rmse:.2f}\")\n",
    "print(f\"Threshold Accuracy (within {threshold} units): {accuracy:.2f}%\")"
   ]
  }
 ],
 "metadata": {
  "kernelspec": {
   "display_name": "base",
   "language": "python",
   "name": "python3"
  },
  "language_info": {
   "codemirror_mode": {
    "name": "ipython",
    "version": 3
   },
   "file_extension": ".py",
   "mimetype": "text/x-python",
   "name": "python",
   "nbconvert_exporter": "python",
   "pygments_lexer": "ipython3",
   "version": "3.12.3"
  }
 },
 "nbformat": 4,
 "nbformat_minor": 5
}
