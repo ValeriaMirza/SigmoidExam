{
 "cells": [
  {
   "cell_type": "code",
   "execution_count": 1,
   "id": "c9484f1b",
   "metadata": {},
   "outputs": [],
   "source": [
    "import pandas as pd\n",
    "import pandas as pd\n",
    "from sklearn.preprocessing import StandardScaler, OneHotEncoder\n",
    "from sklearn.model_selection import train_test_split\n",
    "from sklearn.compose import ColumnTransformer\n",
    "from sklearn.pipeline import Pipeline\n",
    "from sklearn.impute import SimpleImputer\n",
    "from sklearn.preprocessing import LabelEncoder"
   ]
  },
  {
   "cell_type": "code",
   "execution_count": 2,
   "id": "4937f342",
   "metadata": {},
   "outputs": [
    {
     "name": "stderr",
     "output_type": "stream",
     "text": [
      "C:\\Users\\valer\\AppData\\Local\\Temp\\ipykernel_11856\\1507164070.py:1: DtypeWarning: Columns (7,12) have mixed types. Specify dtype option on import or set low_memory=False.\n",
      "  df = pd.read_csv('data.csv')\n"
     ]
    }
   ],
   "source": [
    "df = pd.read_csv('data.csv')"
   ]
  },
  {
   "cell_type": "code",
   "execution_count": 3,
   "id": "701ed082",
   "metadata": {},
   "outputs": [
    {
     "name": "stdout",
     "output_type": "stream",
     "text": [
      "<class 'pandas.core.frame.DataFrame'>\n",
      "RangeIndex: 3552912 entries, 0 to 3552911\n",
      "Data columns (total 16 columns):\n",
      " #   Column               Non-Null Count    Dtype  \n",
      "---  ------               --------------    -----  \n",
      " 0   maker                3033997 non-null  object \n",
      " 1   model                2419551 non-null  object \n",
      " 2   mileage              3190328 non-null  float64\n",
      " 3   manufacture_year     3182334 non-null  float64\n",
      " 4   engine_displacement  2809498 non-null  float64\n",
      " 5   engine_power         2998035 non-null  float64\n",
      " 6   body_type            2429998 non-null  object \n",
      " 7   color_slug           209501 non-null   object \n",
      " 8   stk_year             536105 non-null   float64\n",
      " 9   transmission         2811282 non-null  object \n",
      " 10  door_count           2462846 non-null  float64\n",
      " 11  seat_count           2265813 non-null  float64\n",
      " 12  fuel_type            1705306 non-null  object \n",
      " 13  date_created         3552912 non-null  object \n",
      " 14  date_last_seen       3552912 non-null  object \n",
      " 15  price_eur            3552912 non-null  float64\n",
      "dtypes: float64(8), object(8)\n",
      "memory usage: 433.7+ MB\n"
     ]
    }
   ],
   "source": [
    "df.info( show_counts=True)"
   ]
  },
  {
   "cell_type": "code",
   "execution_count": 4,
   "id": "3c2383ef",
   "metadata": {},
   "outputs": [
    {
     "data": {
      "text/plain": [
       "maker                  14.605343\n",
       "model                  31.899495\n",
       "mileage                10.205263\n",
       "manufacture_year       10.430261\n",
       "engine_displacement    20.924076\n",
       "engine_power           15.617527\n",
       "body_type              31.605455\n",
       "color_slug             94.103400\n",
       "stk_year               84.910828\n",
       "transmission           20.873863\n",
       "door_count             30.680918\n",
       "seat_count             36.226594\n",
       "fuel_type              52.002583\n",
       "date_created            0.000000\n",
       "date_last_seen          0.000000\n",
       "price_eur               0.000000\n",
       "dtype: float64"
      ]
     },
     "execution_count": 4,
     "metadata": {},
     "output_type": "execute_result"
    }
   ],
   "source": [
    "null_percentage = df.isnull().mean() * 100\n",
    "null_percentage"
   ]
  },
  {
   "cell_type": "markdown",
   "id": "c9746aa4",
   "metadata": {},
   "source": [
    "Eliminăm coloanele care au mai mult de 40% valori nule"
   ]
  },
  {
   "cell_type": "code",
   "execution_count": 5,
   "id": "0069dd09",
   "metadata": {},
   "outputs": [],
   "source": [
    "columns_to_drop = null_percentage[null_percentage > 40].index\n",
    "df_cleaned = df.drop(columns=columns_to_drop)"
   ]
  },
  {
   "cell_type": "markdown",
   "id": "44bcb6a8",
   "metadata": {},
   "source": [
    "Eliminăm rândurile cu valori nule la coloanele rămase"
   ]
  },
  {
   "cell_type": "code",
   "execution_count": 6,
   "id": "ee142c2c",
   "metadata": {},
   "outputs": [],
   "source": [
    "df_cleaned = df_cleaned.dropna()"
   ]
  },
  {
   "cell_type": "code",
   "execution_count": 7,
   "id": "6ff0ccd7",
   "metadata": {},
   "outputs": [
    {
     "name": "stdout",
     "output_type": "stream",
     "text": [
      "<class 'pandas.core.frame.DataFrame'>\n",
      "Index: 907112 entries, 507 to 3550267\n",
      "Data columns (total 13 columns):\n",
      " #   Column               Non-Null Count   Dtype  \n",
      "---  ------               --------------   -----  \n",
      " 0   maker                907112 non-null  object \n",
      " 1   model                907112 non-null  object \n",
      " 2   mileage              907112 non-null  float64\n",
      " 3   manufacture_year     907112 non-null  float64\n",
      " 4   engine_displacement  907112 non-null  float64\n",
      " 5   engine_power         907112 non-null  float64\n",
      " 6   body_type            907112 non-null  object \n",
      " 7   transmission         907112 non-null  object \n",
      " 8   door_count           907112 non-null  float64\n",
      " 9   seat_count           907112 non-null  float64\n",
      " 10  date_created         907112 non-null  object \n",
      " 11  date_last_seen       907112 non-null  object \n",
      " 12  price_eur            907112 non-null  float64\n",
      "dtypes: float64(7), object(6)\n",
      "memory usage: 96.9+ MB\n"
     ]
    }
   ],
   "source": [
    "df_cleaned.info(show_counts=True)"
   ]
  },
  {
   "cell_type": "code",
   "execution_count": 8,
   "id": "3ac8b04c",
   "metadata": {},
   "outputs": [],
   "source": [
    "df = df_cleaned"
   ]
  },
  {
   "cell_type": "code",
   "execution_count": 9,
   "id": "91ade43b",
   "metadata": {},
   "outputs": [
    {
     "name": "stdout",
     "output_type": "stream",
     "text": [
      "<class 'pandas.core.frame.DataFrame'>\n",
      "Index: 907112 entries, 507 to 3550267\n",
      "Data columns (total 13 columns):\n",
      " #   Column               Non-Null Count   Dtype  \n",
      "---  ------               --------------   -----  \n",
      " 0   maker                907112 non-null  object \n",
      " 1   model                907112 non-null  object \n",
      " 2   mileage              907112 non-null  float64\n",
      " 3   manufacture_year     907112 non-null  float64\n",
      " 4   engine_displacement  907112 non-null  float64\n",
      " 5   engine_power         907112 non-null  float64\n",
      " 6   body_type            907112 non-null  object \n",
      " 7   transmission         907112 non-null  object \n",
      " 8   door_count           907112 non-null  float64\n",
      " 9   seat_count           907112 non-null  float64\n",
      " 10  date_created         907112 non-null  object \n",
      " 11  date_last_seen       907112 non-null  object \n",
      " 12  price_eur            907112 non-null  float64\n",
      "dtypes: float64(7), object(6)\n",
      "memory usage: 96.9+ MB\n"
     ]
    }
   ],
   "source": [
    "df.info(show_counts=True)"
   ]
  },
  {
   "cell_type": "code",
   "execution_count": null,
   "id": "d345bb3f",
   "metadata": {},
   "outputs": [],
   "source": [
    "if 'date_created' in df.columns and 'date_last_seen' in df.columns:\n",
    "    df['date_created'] = pd.to_datetime(df['date_created'])\n",
    "    df['date_last_seen'] = pd.to_datetime(df['date_last_seen'], errors='coerce')\n",
    "\n",
    "\n",
    "    df['days_since_created'] = (df['date_last_seen'] - df['date_created']).dt.days\n",
    "\n",
    "    df.drop(['date_created', 'date_last_seen'], axis=1, inplace=True)\n",
    "else:\n",
    "    print(\"Columns 'date_created' or 'date_last_seen' are missing!\")"
   ]
  },
  {
   "cell_type": "code",
   "execution_count": 13,
   "id": "948d93f9",
   "metadata": {},
   "outputs": [],
   "source": [
    "df =df.dropna()"
   ]
  },
  {
   "cell_type": "code",
   "execution_count": 14,
   "id": "88ae5487",
   "metadata": {},
   "outputs": [
    {
     "name": "stdout",
     "output_type": "stream",
     "text": [
      "<class 'pandas.core.frame.DataFrame'>\n",
      "Index: 907110 entries, 507 to 3550267\n",
      "Data columns (total 12 columns):\n",
      " #   Column               Non-Null Count   Dtype  \n",
      "---  ------               --------------   -----  \n",
      " 0   maker                907110 non-null  object \n",
      " 1   model                907110 non-null  object \n",
      " 2   mileage              907110 non-null  float64\n",
      " 3   manufacture_year     907110 non-null  float64\n",
      " 4   engine_displacement  907110 non-null  float64\n",
      " 5   engine_power         907110 non-null  float64\n",
      " 6   body_type            907110 non-null  object \n",
      " 7   transmission         907110 non-null  object \n",
      " 8   door_count           907110 non-null  float64\n",
      " 9   seat_count           907110 non-null  float64\n",
      " 10  price_eur            907110 non-null  float64\n",
      " 11  days_since_created   907110 non-null  float64\n",
      "dtypes: float64(8), object(4)\n",
      "memory usage: 90.0+ MB\n"
     ]
    }
   ],
   "source": [
    "df.info()"
   ]
  },
  {
   "cell_type": "code",
   "execution_count": 15,
   "id": "6eff7910",
   "metadata": {},
   "outputs": [],
   "source": [
    "from sklearn.model_selection import train_test_split\n",
    "from sklearn.preprocessing import StandardScaler\n",
    "from sklearn.compose import ColumnTransformer\n",
    "from sklearn.pipeline import Pipeline\n",
    "from sklearn.ensemble import RandomForestRegressor\n",
    "from sklearn.svm import SVR\n",
    "from sklearn.linear_model import LinearRegression\n",
    "from sklearn.metrics import mean_absolute_error, mean_squared_error, r2_score\n",
    "from sklearn.preprocessing import OneHotEncoder\n"
   ]
  },
  {
   "cell_type": "code",
   "execution_count": null,
   "id": "922ab3e3",
   "metadata": {},
   "outputs": [],
   "source": [
    "categorical_cols = ['maker', 'model', 'body_type', 'transmission']\n",
    "\n",
    "\n",
    "numerical_cols = ['mileage', 'manufacture_year', 'engine_displacement', 'engine_power', \n",
    "                  'door_count', 'seat_count', 'days_since_created']\n",
    "\n",
    "\n",
    "X = df.drop('price_eur', axis=1)\n",
    "y = df['price_eur'] \n",
    "\n",
    "X_train, X_test, y_train, y_test = train_test_split(X, y, test_size=0.3, random_state=42)\n",
    "\n",
    "\n",
    "preprocessor = ColumnTransformer(\n",
    "    transformers=[\n",
    "        ('num', RobustScaler(), numerical_cols),\n",
    "        ('cat', OrdinalEncoder(handle_unknown='use_encoded_value', unknown_value=-1), categorical_cols)\n",
    "    ])"
   ]
  },
  {
   "cell_type": "code",
   "execution_count": null,
   "id": "de4ae015",
   "metadata": {},
   "outputs": [],
   "source": [
    "\n",
    "def evaluate_model(model, X_train, X_test, y_train, y_test):\n",
    " \n",
    "    pipeline = Pipeline(steps=[\n",
    "        ('preprocessor', preprocessor),\n",
    "        ('model', model)\n",
    "    ])\n",
    "    \n",
    " \n",
    "    pipeline.fit(X_train, y_train)\n",
    "    \n",
    " \n",
    "    y_pred = pipeline.predict(X_test)\n",
    "    \n",
    "   \n",
    "    mae = mean_absolute_error(y_test, y_pred)\n",
    "    mse = mean_squared_error(y_test, y_pred)\n",
    "    r2 = r2_score(y_test, y_pred)\n",
    "\n",
    "    threshold = 0.1\n",
    "    accuracy = (abs(y_pred - y_test) / y_test < threshold).mean() * 100\n",
    "    \n",
    "    return mae, mse, r2, accuracy"
   ]
  },
  {
   "cell_type": "code",
   "execution_count": null,
   "id": "dc4e5fc8",
   "metadata": {},
   "outputs": [
    {
     "name": "stdout",
     "output_type": "stream",
     "text": [
      "RandomForest - MAE: 2734.608515743675, MSE: 33018009183.01381, R²: -10.201459479310017, Accuracy: 54.334461458184045%\n"
     ]
    }
   ],
   "source": [
    "random_forest = RandomForestRegressor(n_estimators=100, random_state=42)\n",
    "\n",
    "mae, mse, r2, accuracy = evaluate_model(random_forest, X_train, X_test, y_train, y_test)\n",
    "print(f\"RandomForest - MAE: {mae}, MSE: {mse}, R²: {r2}, Accuracy: {accuracy}%\")\n"
   ]
  },
  {
   "cell_type": "code",
   "execution_count": null,
   "id": "61dc29e5",
   "metadata": {},
   "outputs": [],
   "source": [
    "svm = SVR(kernel='linear')\n",
    "\n",
    "mae, mse, r2, accuracy = evaluate_model(svm, X_train, X_test, y_train, y_test)\n",
    "print(f\"SVM - MAE: {mae}, MSE: {mse}, R²: {r2}, Accuracy: {accuracy}%\")\n"
   ]
  },
  {
   "cell_type": "code",
   "execution_count": null,
   "id": "2f72146b",
   "metadata": {},
   "outputs": [],
   "source": [
    "linear_regression = LinearRegression()\n",
    "\n",
    "mae, mse, r2, accuracy = evaluate_model(linear_regression, X_train, X_test, y_train, y_test)\n",
    "print(f\"LinearRegression - MAE: {mae}, MSE: {mse}, R²: {r2}, Accuracy: {accuracy}%\")\n"
   ]
  }
 ],
 "metadata": {
  "kernelspec": {
   "display_name": "base",
   "language": "python",
   "name": "python3"
  },
  "language_info": {
   "codemirror_mode": {
    "name": "ipython",
    "version": 3
   },
   "file_extension": ".py",
   "mimetype": "text/x-python",
   "name": "python",
   "nbconvert_exporter": "python",
   "pygments_lexer": "ipython3",
   "version": "3.12.3"
  }
 },
 "nbformat": 4,
 "nbformat_minor": 5
}
