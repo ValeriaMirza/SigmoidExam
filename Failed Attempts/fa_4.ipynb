{
  "cells": [
    {
      "cell_type": "code",
      "execution_count": 1,
      "metadata": {
        "id": "x7qPlFuKadAN"
      },
      "outputs": [],
      "source": [
        "import pandas as pd\n",
        "from sklearn.model_selection import train_test_split\n",
        "from sklearn.preprocessing import StandardScaler\n",
        "from sklearn.compose import ColumnTransformer\n",
        "from sklearn.pipeline import Pipeline\n",
        "from sklearn.ensemble import RandomForestRegressor\n",
        "from sklearn.svm import SVR\n",
        "from sklearn.linear_model import LinearRegression\n",
        "from sklearn.metrics import mean_absolute_error, mean_squared_error, r2_score\n",
        "from sklearn.preprocessing import OneHotEncoder\n"
      ]
    },
    {
      "cell_type": "code",
      "execution_count": 2,
      "metadata": {
        "colab": {
          "base_uri": "https://localhost:8080/"
        },
        "id": "7go_2n6RaiU5",
        "outputId": "91f0a232-ab2f-4b6e-bb13-cc2da1157050"
      },
      "outputs": [
        {
          "name": "stderr",
          "output_type": "stream",
          "text": [
            "C:\\Users\\valer\\AppData\\Local\\Temp\\ipykernel_14132\\1507164070.py:1: DtypeWarning: Columns (7,12) have mixed types. Specify dtype option on import or set low_memory=False.\n",
            "  df = pd.read_csv('data.csv')\n"
          ]
        }
      ],
      "source": [
        "df = pd.read_csv('data.csv')"
      ]
    },
    {
      "cell_type": "code",
      "execution_count": 3,
      "metadata": {
        "colab": {
          "base_uri": "https://localhost:8080/"
        },
        "id": "FJ0HeMkFaziO",
        "outputId": "a3a66e14-77d2-4393-c93c-b799ac9229d0"
      },
      "outputs": [
        {
          "name": "stdout",
          "output_type": "stream",
          "text": [
            "<class 'pandas.core.frame.DataFrame'>\n",
            "RangeIndex: 3552912 entries, 0 to 3552911\n",
            "Data columns (total 16 columns):\n",
            " #   Column               Dtype  \n",
            "---  ------               -----  \n",
            " 0   maker                object \n",
            " 1   model                object \n",
            " 2   mileage              float64\n",
            " 3   manufacture_year     float64\n",
            " 4   engine_displacement  float64\n",
            " 5   engine_power         float64\n",
            " 6   body_type            object \n",
            " 7   color_slug           object \n",
            " 8   stk_year             float64\n",
            " 9   transmission         object \n",
            " 10  door_count           float64\n",
            " 11  seat_count           float64\n",
            " 12  fuel_type            object \n",
            " 13  date_created         object \n",
            " 14  date_last_seen       object \n",
            " 15  price_eur            float64\n",
            "dtypes: float64(8), object(8)\n",
            "memory usage: 433.7+ MB\n"
          ]
        }
      ],
      "source": [
        "df.info()"
      ]
    },
    {
      "cell_type": "code",
      "execution_count": 4,
      "metadata": {},
      "outputs": [],
      "source": [
        "df = df[(df['manufacture_year'] >= 1886) & (df['manufacture_year'] <= 2025)]\n"
      ]
    },
    {
      "cell_type": "code",
      "execution_count": 5,
      "metadata": {
        "colab": {
          "base_uri": "https://localhost:8080/",
          "height": 585
        },
        "id": "SPMxHyVNvBT5",
        "outputId": "e4db3f06-1bfa-47b7-ed2c-a3e50b32029b"
      },
      "outputs": [
        {
          "data": {
            "text/plain": [
              "maker                  13.952268\n",
              "model                  31.556399\n",
              "mileage                 7.155385\n",
              "manufacture_year        0.000000\n",
              "engine_displacement    18.565621\n",
              "engine_power           12.862821\n",
              "body_type              33.278774\n",
              "color_slug             93.430615\n",
              "stk_year               84.401179\n",
              "transmission           18.564414\n",
              "door_count             27.716251\n",
              "seat_count             32.877884\n",
              "fuel_type              51.527582\n",
              "date_created            0.000000\n",
              "date_last_seen          0.000000\n",
              "price_eur               0.000000\n",
              "dtype: float64"
            ]
          },
          "execution_count": 5,
          "metadata": {},
          "output_type": "execute_result"
        }
      ],
      "source": [
        "null_percentage = df.isnull().mean() * 100\n",
        "null_percentage"
      ]
    },
    {
      "cell_type": "code",
      "execution_count": 6,
      "metadata": {
        "id": "1YYlq2vVvFdW"
      },
      "outputs": [],
      "source": [
        "#columns_to_drop = null_percentage[null_percentage > 60].index\n",
        "#df_cleaned = df.drop(columns=columns_to_drop)"
      ]
    },
    {
      "cell_type": "code",
      "execution_count": 7,
      "metadata": {
        "id": "FfSYe2ocvJgl"
      },
      "outputs": [],
      "source": [
        "#df_cleaned = df_cleaned.dropna()"
      ]
    },
    {
      "cell_type": "code",
      "execution_count": 8,
      "metadata": {
        "id": "OHr2RHsVvNDF"
      },
      "outputs": [],
      "source": [
        "#df = df_cleaned"
      ]
    },
    {
      "cell_type": "code",
      "execution_count": 9,
      "metadata": {
        "id": "PNWdTfTrvQ0O"
      },
      "outputs": [],
      "source": [
        "# df = df.dropna()"
      ]
    },
    {
      "cell_type": "code",
      "execution_count": 10,
      "metadata": {
        "colab": {
          "base_uri": "https://localhost:8080/"
        },
        "id": "DcbVpW91vR53",
        "outputId": "151db88c-a358-47ef-a370-7a9a8deed532"
      },
      "outputs": [
        {
          "name": "stdout",
          "output_type": "stream",
          "text": [
            "<class 'pandas.core.frame.DataFrame'>\n",
            "Index: 3149488 entries, 0 to 3552910\n",
            "Data columns (total 16 columns):\n",
            " #   Column               Dtype  \n",
            "---  ------               -----  \n",
            " 0   maker                object \n",
            " 1   model                object \n",
            " 2   mileage              float64\n",
            " 3   manufacture_year     float64\n",
            " 4   engine_displacement  float64\n",
            " 5   engine_power         float64\n",
            " 6   body_type            object \n",
            " 7   color_slug           object \n",
            " 8   stk_year             float64\n",
            " 9   transmission         object \n",
            " 10  door_count           float64\n",
            " 11  seat_count           float64\n",
            " 12  fuel_type            object \n",
            " 13  date_created         object \n",
            " 14  date_last_seen       object \n",
            " 15  price_eur            float64\n",
            "dtypes: float64(8), object(8)\n",
            "memory usage: 408.5+ MB\n"
          ]
        }
      ],
      "source": [
        "df.info()"
      ]
    },
    {
      "cell_type": "code",
      "execution_count": null,
      "metadata": {
        "id": "TuWTDwrtvbTF"
      },
      "outputs": [
        {
          "name": "stderr",
          "output_type": "stream",
          "text": [
            "c:\\Users\\valer\\anaconda3\\Lib\\site-packages\\sklearn\\impute\\_iterative.py:895: ConvergenceWarning: [IterativeImputer] Early stopping criterion not reached.\n",
            "  warnings.warn(\n"
          ]
        },
        {
          "name": "stdout",
          "output_type": "stream",
          "text": [
            "✅ Final dataset size: (91504, 19)\n"
          ]
        }
      ],
      "source": [
        "df['date_created'] = pd.to_datetime(df['date_created'], errors='coerce')\n",
        "df['date_last_seen'] = pd.to_datetime(df['date_last_seen'], errors='coerce')\n",
        "\n",
        "\n",
        "df = df.dropna(subset=['date_created', 'date_last_seen'], how='all')\n",
        "\n",
        "\n",
        "df['days_since_created'] = (df['date_last_seen'] - df['date_created']).dt.days\n",
        "df.drop(['date_created', 'date_last_seen'], axis=1, inplace=True)\n",
        "\n",
        "\n",
        "current_year = pd.Timestamp.now().year\n",
        "df['car_age'] = current_year - df['manufacture_year']\n",
        "\n",
        "\n",
        "luxury_brands = ['BMW', 'Mercedes-Benz', 'Audi']\n",
        "df['is_luxury_brand'] = df['maker'].isin(luxury_brands).astype(int)\n",
        "\n",
        "\n",
        "df['mileage_per_year'] = df['mileage'] / df['car_age'].replace(0, np.nan)\n",
        "\n",
        "\n",
        "df['age_bin'] = pd.cut(df['car_age'], bins=[-1, 2, 5, 100], labels=['new', 'mid_age', 'old'])\n",
        "\n",
        "\n",
        "categorical_cols = ['maker', 'model', 'body_type', 'transmission', 'fuel_type', 'color_slug', 'age_bin']\n",
        "numerical_cols = ['mileage', 'manufacture_year', 'engine_displacement', \n",
        "                  'engine_power', 'stk_year', 'door_count', 'seat_count',\n",
        "                  'days_since_created', 'car_age', 'mileage_per_year']\n",
        "\n",
        "\n",
        "imputer = IterativeImputer(max_iter=10, random_state=42)\n",
        "df[numerical_cols] = imputer.fit_transform(df[numerical_cols])\n",
        "\n",
        "\n",
        "iso = IsolationForest(contamination=0.005, random_state=42)\n",
        "outliers = iso.fit_predict(df[numerical_cols])\n",
        "df = df[outliers != -1].reset_index(drop=True)\n",
        "\n",
        "\n",
        "df.dropna(inplace=True)\n",
        "\n",
        "\n",
        "X = df.drop('price_eur', axis=1)\n",
        "\n",
        "X_train, X_test, y_train, y_test = train_test_split(X, y, test_size=0.3, random_state=42)\n",
        "\n",
        "\n",
        "target_encoder = ce.TargetEncoder(cols=categorical_cols)\n",
        "X_train[categorical_cols] = target_encoder.fit_transform(X_train[categorical_cols], y_train)\n",
        "X_test[categorical_cols] = target_encoder.transform(X_test[categorical_cols])\n",
        "\n",
        "scaler = StandardScaler()\n",
        "X_train[numerical_cols] = scaler.fit_transform(X_train[numerical_cols])\n",
        "X_test[numerical_cols] = scaler.transform(X_test[numerical_cols])\n",
        "\n",
        "\n",
        "print(\"✅ Final dataset size:\", df.shape)\n"
      ]
    },
    {
      "cell_type": "code",
      "execution_count": null,
      "metadata": {
        "id": "kuL_wGSBveX8"
      },
      "outputs": [],
      "source": [
        "def evaluate_model(model, X_train, X_test, y_train, y_test):\n",
        "   \n",
        "    model.fit(X_train, y_train)\n",
        "    y_pred = model.predict(X_test)\n",
        "\n",
        "\n",
        "    mae = mean_absolute_error(y_test, y_pred)\n",
        "    mse = mean_squared_error(y_test, y_pred)\n",
        "    r2 = r2_score(y_test, y_pred)\n",
        "\n",
        "    percentage_error = abs((y_pred - y_test) / y_test) * 100\n",
        "    threshold = 10\n",
        "    accuracy = (percentage_error < threshold).mean() * 100\n",
        "\n",
        "    return mae, mse, r2, accuracy"
      ]
    },
    {
      "cell_type": "code",
      "execution_count": 16,
      "metadata": {
        "id": "gEe8RGeK9n04"
      },
      "outputs": [
        {
          "name": "stdout",
          "output_type": "stream",
          "text": [
            "<class 'pandas.core.frame.DataFrame'>\n",
            "Index: 91504 entries, 939273 to 3131734\n",
            "Data columns (total 19 columns):\n",
            " #   Column               Non-Null Count  Dtype   \n",
            "---  ------               --------------  -----   \n",
            " 0   maker                91504 non-null  object  \n",
            " 1   model                91504 non-null  object  \n",
            " 2   mileage              91504 non-null  float64 \n",
            " 3   manufacture_year     91504 non-null  float64 \n",
            " 4   engine_displacement  91504 non-null  float64 \n",
            " 5   engine_power         91504 non-null  float64 \n",
            " 6   body_type            91504 non-null  object  \n",
            " 7   color_slug           91504 non-null  object  \n",
            " 8   stk_year             91504 non-null  float64 \n",
            " 9   transmission         91504 non-null  object  \n",
            " 10  door_count           91504 non-null  float64 \n",
            " 11  seat_count           91504 non-null  float64 \n",
            " 12  fuel_type            91504 non-null  object  \n",
            " 13  price_eur            91504 non-null  float64 \n",
            " 14  days_since_created   91504 non-null  float64 \n",
            " 15  car_age              91504 non-null  float64 \n",
            " 16  is_luxury_brand      91504 non-null  int32   \n",
            " 17  mileage_per_year     91504 non-null  float64 \n",
            " 18  age_bin              91504 non-null  category\n",
            "dtypes: category(1), float64(11), int32(1), object(6)\n",
            "memory usage: 13.0+ MB\n"
          ]
        }
      ],
      "source": [
        "df.info()"
      ]
    },
    {
      "cell_type": "code",
      "execution_count": 17,
      "metadata": {},
      "outputs": [
        {
          "name": "stdout",
          "output_type": "stream",
          "text": [
            "XGBRegressor: Accuracy: 87.21404633542183%, MAE: 324.92093528443513, MSE: 26806764.686830103, R²: 0.07503047401961493\n"
          ]
        }
      ],
      "source": [
        "from xgboost import XGBRegressor\n",
        "\n",
        "xgb = XGBRegressor(n_estimators=300, learning_rate=0.1, max_depth=8, random_state=42)\n",
        "evaluate_model(xgb, X_train, X_test, y_train, y_test)\n",
        "\n",
        "mae, mse, r2, accuracy = evaluate_model(xgb, X_train, X_test, y_train, y_test)\n",
        "print(f\"XGBRegressor: Accuracy: {accuracy}%, MAE: {mae}, MSE: {mse}, R²: {r2}\")\n"
      ]
    },
    {
      "cell_type": "code",
      "execution_count": 18,
      "metadata": {
        "colab": {
          "base_uri": "https://localhost:8080/"
        },
        "id": "Ri_0uYy4vgAK",
        "outputId": "2a5b6da9-044d-402f-ae6b-7ddcc3cbc099"
      },
      "outputs": [
        {
          "name": "stdout",
          "output_type": "stream",
          "text": [
            "RandomForest: Accuracy: 91.41046189712954%, MAE: 322.5232892604207, MSE: 33628950.77265283, R²: -0.1603695939734322\n"
          ]
        }
      ],
      "source": [
        "random_forest = RandomForestRegressor(n_estimators=100, random_state=42)\n",
        "mae, mse, r2, accuracy = evaluate_model(random_forest, X_train, X_test, y_train, y_test)\n",
        "\n",
        "print(f\"RandomForest: Accuracy: {accuracy}%, MAE: {mae}, MSE: {mse}, R²: {r2}\")"
      ]
    },
    {
      "cell_type": "code",
      "execution_count": 19,
      "metadata": {},
      "outputs": [
        {
          "name": "stdout",
          "output_type": "stream",
          "text": [
            "<class 'pandas.core.frame.DataFrame'>\n",
            "Index: 91504 entries, 939273 to 3131734\n",
            "Data columns (total 19 columns):\n",
            " #   Column               Non-Null Count  Dtype   \n",
            "---  ------               --------------  -----   \n",
            " 0   maker                91504 non-null  object  \n",
            " 1   model                91504 non-null  object  \n",
            " 2   mileage              91504 non-null  float64 \n",
            " 3   manufacture_year     91504 non-null  float64 \n",
            " 4   engine_displacement  91504 non-null  float64 \n",
            " 5   engine_power         91504 non-null  float64 \n",
            " 6   body_type            91504 non-null  object  \n",
            " 7   color_slug           91504 non-null  object  \n",
            " 8   stk_year             91504 non-null  float64 \n",
            " 9   transmission         91504 non-null  object  \n",
            " 10  door_count           91504 non-null  float64 \n",
            " 11  seat_count           91504 non-null  float64 \n",
            " 12  fuel_type            91504 non-null  object  \n",
            " 13  price_eur            91504 non-null  float64 \n",
            " 14  days_since_created   91504 non-null  float64 \n",
            " 15  car_age              91504 non-null  float64 \n",
            " 16  is_luxury_brand      91504 non-null  int32   \n",
            " 17  mileage_per_year     91504 non-null  float64 \n",
            " 18  age_bin              91504 non-null  category\n",
            "dtypes: category(1), float64(11), int32(1), object(6)\n",
            "memory usage: 13.0+ MB\n"
          ]
        }
      ],
      "source": [
        "df.info()"
      ]
    }
  ],
  "metadata": {
    "colab": {
      "provenance": []
    },
    "kernelspec": {
      "display_name": "base",
      "language": "python",
      "name": "python3"
    },
    "language_info": {
      "codemirror_mode": {
        "name": "ipython",
        "version": 3
      },
      "file_extension": ".py",
      "mimetype": "text/x-python",
      "name": "python",
      "nbconvert_exporter": "python",
      "pygments_lexer": "ipython3",
      "version": "3.12.3"
    }
  },
  "nbformat": 4,
  "nbformat_minor": 0
}
